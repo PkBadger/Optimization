{
 "cells": [
  {
   "cell_type": "markdown",
   "metadata": {},
   "source": [
    "### Simular dato de la forma\n",
    "\n",
    "$y_i = mx_i + b + \\epsilon_i$"
   ]
  },
  {
   "cell_type": "code",
   "execution_count": null,
   "metadata": {},
   "outputs": [],
   "source": [
    "import numpy as np\n",
    "from matplotlib import pyplot as plt\n",
    "\n",
    "seed = [4,4,3,1,3,2,4,6]\n",
    "\n",
    "m = 5\n",
    "b = 2\n",
    "\n",
    "std = 3\n",
    "\n",
    "x = np.arange(0,11,1)\n",
    "\n",
    "\n",
    "epsilon = np.random.normal(0, std, (len(x))) \n",
    "\n",
    "y = m * x + b + epsilon\n",
    "\n",
    "plt.scatter(x,y)\n",
    "\n",
    "plt.show()"
   ]
  },
  {
   "cell_type": "markdown",
   "metadata": {},
   "source": [
    "### Regresion Lineal"
   ]
  },
  {
   "cell_type": "code",
   "execution_count": null,
   "metadata": {},
   "outputs": [],
   "source": [
    "from scipy.optimize import minimize\n",
    "\n",
    "def l_function(thetas):\n",
    "    return sum((y - thetas[0]*x - thetas[1])**2)\n",
    "\n",
    "res = minimize(l_function, seed[0:2], method='BFGS')\n",
    "\n",
    "xForPred = np.arange(0,10,.1)\n",
    "\n",
    "ypred = res.x[0] * xForPred + res.x[1] \n",
    "plt.scatter(x,y)\n",
    "plt.scatter(xForPred, ypred, 10)\n",
    "plt.show()\n",
    "\n",
    "res.x"
   ]
  },
  {
   "cell_type": "markdown",
   "metadata": {},
   "source": [
    "### Hipotesis"
   ]
  },
  {
   "cell_type": "code",
   "execution_count": null,
   "metadata": {},
   "outputs": [],
   "source": [
    "def ha_function(thetas):\n",
    "    return sum((y - thetas[0]*x - thetas[1]*x**2 - thetas[2])**2)\n",
    "\n",
    "resHa = minimize(l_function, seed[0:3], method='BFGS')\n",
    "\n",
    "ypredHa = resHa.x[0] * xForPred + resHa.x[1]*xForPred**2 + resHa.x[2] \n",
    "plt.scatter(x,y)\n",
    "plt.scatter(xForPred, ypredHa, 1)\n",
    "plt.show()"
   ]
  },
  {
   "cell_type": "code",
   "execution_count": null,
   "metadata": {},
   "outputs": [],
   "source": [
    "def hb_function(thetas):\n",
    "    return sum((y - thetas[0]*x - thetas[1]*x**2 - thetas[2]*x**3 - thetas[3])**2)\n",
    "\n",
    "resHb = minimize(hb_function, seed[0:4], method='BFGS')\n",
    "\n",
    "ypredHb = resHb.x[0] * xForPred + resHb.x[1]*xForPred**2 + resHb.x[2]*xForPred**3 + resHb.x[3]  \n",
    "plt.scatter(x,y)\n",
    "#plt.scatter(xForPred, ypred, 1)\n",
    "#plt.scatter(xForPred, ypredHa, 1)\n",
    "plt.scatter(xForPred, ypredHb, 1)\n",
    "plt.show()"
   ]
  },
  {
   "cell_type": "code",
   "execution_count": null,
   "metadata": {},
   "outputs": [],
   "source": [
    "resHb.x\n",
    "np.shape(ypredHb)"
   ]
  },
  {
   "cell_type": "code",
   "execution_count": null,
   "metadata": {},
   "outputs": [],
   "source": [
    "\n",
    "def hc_function(thetas):\n",
    "    return sum((y - thetas[0]*x - thetas[1]*x**2 - thetas[2]*x**3 - thetas[3]*x**4 - thetas[4]*x**5  - thetas[5]*x**6 - thetas[6]*x**7 -thetas[7])**2)\n",
    "\n",
    "resHc = minimize(hc_function, seed, method='BFGS')\n",
    "\n",
    "xForPred = np.arange(0,10,.1)\n",
    "\n",
    "ypredHc = resHc.x[0] * x + resHc.x[1]*x**2 + resHc.x[2]*x**3 + resHc.x[3]*x**4  + resHc.x[4]*x**5 + resHc.x[5]*x**6 + resHc.x[6]*x**7 + resHc.x[7]\n",
    "plt.scatter(x,y)\n",
    "#plt.scatter(xForPred, ypred, 1)\n",
    "#plt.scatter(xForPred, ypredHa, 1)\n",
    "plt.plot(ypredHc)\n",
    "plt.show()\n",
    "\n",
    "resHc.x"
   ]
  },
  {
   "cell_type": "markdown",
   "metadata": {},
   "source": [
    "### Regularization Ridge"
   ]
  },
  {
   "cell_type": "code",
   "execution_count": null,
   "metadata": {},
   "outputs": [],
   "source": []
  },
  {
   "cell_type": "markdown",
   "metadata": {},
   "source": [
    "### Regularizacion LASSO"
   ]
  },
  {
   "cell_type": "code",
   "execution_count": null,
   "metadata": {},
   "outputs": [],
   "source": [
    "lambd = 30000\n",
    "\n",
    "def lasso_function(thetas):\n",
    "    return sum((y - thetas[0]*x - thetas[1]*x**2 - thetas[2]*x**3 - thetas[3]*x**4 - thetas[4]*x**5  - thetas[5]*x**6 - thetas[6]*x**7 -thetas[7])**2) + lambd * sum(abs(thetas))\n",
    "\n",
    "resLasso = minimize(lasso_function, seed, method='BFGS')\n",
    "\n",
    "ypredLasso = resLasso.x[0] * x + resLasso.x[1]*x**2 + resLasso.x[2]*x**3 + resLasso.x[3]*x**4  + resLasso.x[4]*x**5 + resLasso.x[5]*x**6 + resLasso.x[6]*x**7 + resLasso.x[7]\n",
    "plt.scatter(x,y)\n",
    "#plt.scatter(xForPred, ypred, 1)\n",
    "#plt.scatter(xForPred, ypredHa, 1)\n",
    "plt.plot(ypredLasso)\n",
    "plt.show()\n",
    "\n",
    "resLasso.x"
   ]
  },
  {
   "cell_type": "code",
   "execution_count": null,
   "metadata": {},
   "outputs": [],
   "source": []
  }
 ],
 "metadata": {
  "kernelspec": {
   "display_name": "Python 3",
   "language": "python",
   "name": "python3"
  },
  "language_info": {
   "codemirror_mode": {
    "name": "ipython",
    "version": 3
   },
   "file_extension": ".py",
   "mimetype": "text/x-python",
   "name": "python",
   "nbconvert_exporter": "python",
   "pygments_lexer": "ipython3",
   "version": "3.7.3"
  }
 },
 "nbformat": 4,
 "nbformat_minor": 2
}
