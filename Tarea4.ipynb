{
 "cells": [
  {
   "cell_type": "markdown",
   "metadata": {},
   "source": [
    "### Simular dato de la forma\n",
    "\n",
    "$y_i = mx_i + b + \\epsilon_i$"
   ]
  },
  {
   "cell_type": "code",
   "execution_count": null,
   "metadata": {},
   "outputs": [],
   "source": [
    "import numpy as np\n",
    "from matplotlib import pyplot as plt\n",
    "\n",
    "np.random.seed(100)\n",
    "\n",
    "seed = [1,1,1,1,1,1,1]\n",
    "\n",
    "m = 5\n",
    "b = 2\n",
    "\n",
    "std = 3\n",
    "\n",
    "x = np.arange(0,11,1)\n",
    "X = [x, x**2, x**3, x**4, x**5, x**6]\n",
    "\n",
    "xForPred = np.arange(0,10.1,.1)\n",
    "XForPred = [xForPred, xForPred**2, xForPred**3, xForPred**4, xForPred**5, xForPred**6]\n",
    "\n",
    "\n",
    "epsilon = np.random.normal(0, std, (len(x))) \n",
    "\n",
    "y = m * x + b + epsilon\n",
    "\n",
    "plt.scatter(x,y)\n",
    "\n",
    "plt.show()"
   ]
  },
  {
   "cell_type": "markdown",
   "metadata": {},
   "source": [
    "### Regresion Lineal"
   ]
  },
  {
   "cell_type": "code",
   "execution_count": null,
   "metadata": {},
   "outputs": [],
   "source": [
    "from scipy.optimize import minimize\n",
    "\n",
    "def l_function(thetas):\n",
    "    return sum((y - np.dot(thetas[0:-1],X[0:1]) - thetas[-1])**2)\n",
    "\n",
    "res = minimize(l_function, seed[0:2], method='BFGS')\n",
    "\n",
    "ypred = res.x[0] * x + res.x[1] \n",
    "plt.scatter(x,y)\n",
    "plt.plot(ypred)\n",
    "plt.show()\n",
    "\n",
    "res.x"
   ]
  },
  {
   "cell_type": "markdown",
   "metadata": {},
   "source": [
    "### Hipotesis"
   ]
  },
  {
   "cell_type": "code",
   "execution_count": null,
   "metadata": {},
   "outputs": [],
   "source": [
    "def ha_function(thetas):\n",
    "    return sum((y - np.dot(thetas[0:-1],X[0:2]) - thetas[-1])**2)\n",
    "\n",
    "resHa = minimize(ha_function, seed[0:3], method='BFGS')\n",
    "\n",
    "ypredHa = np.dot(resHa.x[0:-1],XForPred[0:2]) + resHa.x[-1]\n",
    "plt.scatter(x,y)\n",
    "plt.plot(xForPred, ypredHa)\n",
    "plt.show()"
   ]
  },
  {
   "cell_type": "code",
   "execution_count": null,
   "metadata": {},
   "outputs": [],
   "source": [
    "def hb_function(thetas):\n",
    "    #return sum((y - thetas[0]*x - thetas[1]*x**2 - thetas[2]*x**3 - thetas[3])**2)\n",
    "    return sum((y - np.dot(thetas[0:-1],X[0:3]) - thetas[-1])**2)\n",
    "\n",
    "resHb = minimize(hb_function, seed[0:4], method='BFGS')\n",
    "\n",
    "ypredHb = np.dot(resHb.x[0:-1],XForPred[0:3]) + resHb.x[-1]\n",
    "plt.scatter(x,y)\n",
    "plt.plot(xForPred, ypredHb)\n",
    "plt.show()"
   ]
  },
  {
   "cell_type": "code",
   "execution_count": null,
   "metadata": {},
   "outputs": [],
   "source": [
    "\n",
    "def hc_function(thetas):\n",
    "    return sum((y - np.dot(thetas[0:-1],X) - thetas[-1])**2)\n",
    "\n",
    "resHc = minimize(hc_function, seed[0:7], method='BFGS')\n",
    "\n",
    "xForPred = np.arange(0,10.1,.1)\n",
    "\n",
    "ypredHc = np.dot(resHc.x[0:-1],XForPred) + resHc.x[-1]\n",
    "plt.scatter(x,y)\n",
    "plt.plot(xForPred, ypredHc)\n",
    "plt.show()\n",
    "\n",
    "resHc.x\n"
   ]
  },
  {
   "cell_type": "markdown",
   "metadata": {},
   "source": [
    "### Regularization Ridge"
   ]
  },
  {
   "cell_type": "code",
   "execution_count": null,
   "metadata": {},
   "outputs": [],
   "source": [
    "lambd = 100\n",
    "# Lambda por cada uno de los thetas^2\n",
    "def ridge_function(thetas):\n",
    "    return sum((y - np.dot(thetas[0:-1],X) - thetas[-1])**2) + lambd*(sum(thetas**2))\n",
    "\n",
    "resRidge = minimize(ridge_function, seed, method='BFGS')\n",
    "\n",
    "ypredRidge = np.dot(resRidge.x[0:-1],XForPred) + resRidge.x[-1]\n",
    "plt.scatter(x,y)\n",
    "plt.plot(xForPred, ypredRidge)\n",
    "plt.show()\n",
    "\n",
    "resLasso.x"
   ]
  },
  {
   "cell_type": "markdown",
   "metadata": {},
   "source": [
    "### Regularizacion LASSO"
   ]
  },
  {
   "cell_type": "code",
   "execution_count": null,
   "metadata": {},
   "outputs": [],
   "source": [
    "lambd = 100\n",
    "\n",
    "def lasso_function(thetas):\n",
    "    return sum((y - np.dot(thetas[0:-1],X) - thetas[-1])**2) + lambd * sum(abs(thetas))\n",
    "\n",
    "resLasso = minimize(lasso_function, seed, method='BFGS')\n",
    "\n",
    "ypredLasso = np.dot(resLasso.x[0:-1],XForPred) + resLasso.x[-1]\n",
    "plt.scatter(x,y)\n",
    "plt.plot(xForPred,ypredLasso)\n",
    "plt.show()\n"
   ]
  },
  {
   "cell_type": "code",
   "execution_count": null,
   "metadata": {},
   "outputs": [],
   "source": []
  }
 ],
 "metadata": {
  "kernelspec": {
   "display_name": "Python 3",
   "language": "python",
   "name": "python3"
  },
  "language_info": {
   "codemirror_mode": {
    "name": "ipython",
    "version": 3
   },
   "file_extension": ".py",
   "mimetype": "text/x-python",
   "name": "python",
   "nbconvert_exporter": "python",
   "pygments_lexer": "ipython3",
   "version": "3.7.3"
  }
 },
 "nbformat": 4,
 "nbformat_minor": 2
}
